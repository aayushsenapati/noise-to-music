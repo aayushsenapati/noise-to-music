{
 "cells": [
  {
   "cell_type": "code",
   "execution_count": 6,
   "metadata": {},
   "outputs": [],
   "source": [
    "import os\n",
    "import librosa\n",
    "import librosa.display\n",
    "import matplotlib.pyplot as plt\n",
    "import numpy as np"
   ]
  },
  {
   "cell_type": "code",
   "execution_count": 5,
   "metadata": {},
   "outputs": [],
   "source": [
    "def wav_to_mel_spectrogram(wav_file, output_image):\n",
    "    # Load the audio file\n",
    "    y, sr = librosa.load(wav_file, sr=None)\n",
    "    \n",
    "    # Convert to mel spectrogram\n",
    "    S = librosa.feature.melspectrogram(y=y, sr=sr, n_mels=128)\n",
    "    \n",
    "    # Convert to log scale (dB). Use a small offset to avoid log(0) issues.\n",
    "    S_dB = librosa.power_to_db(S, ref=np.max)\n",
    "    \n",
    "    # Plot the mel spectrogram\n",
    "    plt.figure(figsize=(10, 4))\n",
    "    librosa.display.specshow(S_dB, sr=sr, x_axis='time', y_axis='mel', fmax=8000)\n",
    "    plt.colorbar(format='%+2.0f dB')\n",
    "    plt.title('Mel spectrogram')\n",
    "    plt.tight_layout()\n",
    "    \n",
    "    # Save the figure\n",
    "    plt.savefig(output_image)\n",
    "    plt.close()"
   ]
  },
  {
   "cell_type": "code",
   "execution_count": 7,
   "metadata": {},
   "outputs": [],
   "source": [
    "def process_directory(input_dir, output_dir):\n",
    "    # Ensure the output directory exists\n",
    "    os.makedirs(output_dir, exist_ok=True)\n",
    "    \n",
    "    # Process each WAV file in the input directory\n",
    "    for filename in os.listdir(input_dir):\n",
    "        if filename.endswith('.wav'):\n",
    "            wav_file = os.path.join(input_dir, filename)\n",
    "            output_image = os.path.join(output_dir, f\"{os.path.splitext(filename)[0]}_mel.png\")\n",
    "            wav_to_mel_spectrogram(wav_file, output_image)\n",
    "            print(f\"Processed {wav_file} and saved to {output_image}\")"
   ]
  },
  {
   "cell_type": "code",
   "execution_count": 8,
   "metadata": {},
   "outputs": [
    {
     "name": "stdout",
     "output_type": "stream",
     "text": [
      "Processed Cymatics - Lofi Toolkit\\Melody Loops\\Cymatics - Lofi Melody Loop 1 - 70 BPM G Maj.wav and saved to output\\Cymatics - Lofi Melody Loop 1 - 70 BPM G Maj_mel.png\n",
      "Processed Cymatics - Lofi Toolkit\\Melody Loops\\Cymatics - Lofi Melody Loop 10 - 90 BPM B Min.wav and saved to output\\Cymatics - Lofi Melody Loop 10 - 90 BPM B Min_mel.png\n",
      "Processed Cymatics - Lofi Toolkit\\Melody Loops\\Cymatics - Lofi Melody Loop 11 - 100 BPM D Maj.wav and saved to output\\Cymatics - Lofi Melody Loop 11 - 100 BPM D Maj_mel.png\n",
      "Processed Cymatics - Lofi Toolkit\\Melody Loops\\Cymatics - Lofi Melody Loop 12 - 120 BPM C# Maj.wav and saved to output\\Cymatics - Lofi Melody Loop 12 - 120 BPM C# Maj_mel.png\n",
      "Processed Cymatics - Lofi Toolkit\\Melody Loops\\Cymatics - Lofi Melody Loop 13 - 120 BPM C# Min.wav and saved to output\\Cymatics - Lofi Melody Loop 13 - 120 BPM C# Min_mel.png\n",
      "Processed Cymatics - Lofi Toolkit\\Melody Loops\\Cymatics - Lofi Melody Loop 14 - 120 BPM D# Maj.wav and saved to output\\Cymatics - Lofi Melody Loop 14 - 120 BPM D# Maj_mel.png\n",
      "Processed Cymatics - Lofi Toolkit\\Melody Loops\\Cymatics - Lofi Melody Loop 15 - 120 BPM F# Maj.wav and saved to output\\Cymatics - Lofi Melody Loop 15 - 120 BPM F# Maj_mel.png\n",
      "Processed Cymatics - Lofi Toolkit\\Melody Loops\\Cymatics - Lofi Melody Loop 16 - 120 BPM F# Maj.wav and saved to output\\Cymatics - Lofi Melody Loop 16 - 120 BPM F# Maj_mel.png\n",
      "Processed Cymatics - Lofi Toolkit\\Melody Loops\\Cymatics - Lofi Melody Loop 17 - 120 BPM F# Maj.wav and saved to output\\Cymatics - Lofi Melody Loop 17 - 120 BPM F# Maj_mel.png\n",
      "Processed Cymatics - Lofi Toolkit\\Melody Loops\\Cymatics - Lofi Melody Loop 18 - 125 BPM F# Maj.wav and saved to output\\Cymatics - Lofi Melody Loop 18 - 125 BPM F# Maj_mel.png\n",
      "Processed Cymatics - Lofi Toolkit\\Melody Loops\\Cymatics - Lofi Melody Loop 19 - 130 BPM D Min.wav and saved to output\\Cymatics - Lofi Melody Loop 19 - 130 BPM D Min_mel.png\n",
      "Processed Cymatics - Lofi Toolkit\\Melody Loops\\Cymatics - Lofi Melody Loop 2 - 75 BPM G Maj.wav and saved to output\\Cymatics - Lofi Melody Loop 2 - 75 BPM G Maj_mel.png\n",
      "Processed Cymatics - Lofi Toolkit\\Melody Loops\\Cymatics - Lofi Melody Loop 20 - 130 BPM D# Maj.wav and saved to output\\Cymatics - Lofi Melody Loop 20 - 130 BPM D# Maj_mel.png\n",
      "Processed Cymatics - Lofi Toolkit\\Melody Loops\\Cymatics - Lofi Melody Loop 21 - 130 BPM D# Maj.wav and saved to output\\Cymatics - Lofi Melody Loop 21 - 130 BPM D# Maj_mel.png\n",
      "Processed Cymatics - Lofi Toolkit\\Melody Loops\\Cymatics - Lofi Melody Loop 22 - 130 BPM D# Maj.wav and saved to output\\Cymatics - Lofi Melody Loop 22 - 130 BPM D# Maj_mel.png\n",
      "Processed Cymatics - Lofi Toolkit\\Melody Loops\\Cymatics - Lofi Melody Loop 23 - 130 BPM E Maj.wav and saved to output\\Cymatics - Lofi Melody Loop 23 - 130 BPM E Maj_mel.png\n",
      "Processed Cymatics - Lofi Toolkit\\Melody Loops\\Cymatics - Lofi Melody Loop 24 - 130 BPM G# Maj.wav and saved to output\\Cymatics - Lofi Melody Loop 24 - 130 BPM G# Maj_mel.png\n",
      "Processed Cymatics - Lofi Toolkit\\Melody Loops\\Cymatics - Lofi Melody Loop 25 - 130 BPM B Min.wav and saved to output\\Cymatics - Lofi Melody Loop 25 - 130 BPM B Min_mel.png\n",
      "Processed Cymatics - Lofi Toolkit\\Melody Loops\\Cymatics - Lofi Melody Loop 26 - 150 BPM G Maj.wav and saved to output\\Cymatics - Lofi Melody Loop 26 - 150 BPM G Maj_mel.png\n",
      "Processed Cymatics - Lofi Toolkit\\Melody Loops\\Cymatics - Lofi Melody Loop 3 - 80 BPM D Maj.wav and saved to output\\Cymatics - Lofi Melody Loop 3 - 80 BPM D Maj_mel.png\n",
      "Processed Cymatics - Lofi Toolkit\\Melody Loops\\Cymatics - Lofi Melody Loop 4 - 80 BPM E Min.wav and saved to output\\Cymatics - Lofi Melody Loop 4 - 80 BPM E Min_mel.png\n",
      "Processed Cymatics - Lofi Toolkit\\Melody Loops\\Cymatics - Lofi Melody Loop 5 - 80 BPM F Min.wav and saved to output\\Cymatics - Lofi Melody Loop 5 - 80 BPM F Min_mel.png\n",
      "Processed Cymatics - Lofi Toolkit\\Melody Loops\\Cymatics - Lofi Melody Loop 6 - 80 BPM G Min.wav and saved to output\\Cymatics - Lofi Melody Loop 6 - 80 BPM G Min_mel.png\n",
      "Processed Cymatics - Lofi Toolkit\\Melody Loops\\Cymatics - Lofi Melody Loop 7 - 90 BPM E Min.wav and saved to output\\Cymatics - Lofi Melody Loop 7 - 90 BPM E Min_mel.png\n",
      "Processed Cymatics - Lofi Toolkit\\Melody Loops\\Cymatics - Lofi Melody Loop 8 - 90 BPM F Min.wav and saved to output\\Cymatics - Lofi Melody Loop 8 - 90 BPM F Min_mel.png\n",
      "Processed Cymatics - Lofi Toolkit\\Melody Loops\\Cymatics - Lofi Melody Loop 9 - 90 BPM A Maj.wav and saved to output\\Cymatics - Lofi Melody Loop 9 - 90 BPM A Maj_mel.png\n"
     ]
    }
   ],
   "source": [
    "input_dir = 'Cymatics - Lofi Toolkit\\Melody Loops'\n",
    "output_dir = 'output'\n",
    "process_directory(input_dir, output_dir)"
   ]
  }
 ],
 "metadata": {
  "kernelspec": {
   "display_name": "capstone",
   "language": "python",
   "name": "python3"
  },
  "language_info": {
   "codemirror_mode": {
    "name": "ipython",
    "version": 3
   },
   "file_extension": ".py",
   "mimetype": "text/x-python",
   "name": "python",
   "nbconvert_exporter": "python",
   "pygments_lexer": "ipython3",
   "version": "3.10.14"
  }
 },
 "nbformat": 4,
 "nbformat_minor": 2
}
